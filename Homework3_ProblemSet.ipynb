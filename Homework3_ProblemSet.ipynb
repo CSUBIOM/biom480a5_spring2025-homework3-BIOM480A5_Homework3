{
 "cells": [
  {
   "cell_type": "markdown",
   "id": "39fc3e14-2591-45fc-8c8c-1a3923fb1894",
   "metadata": {},
   "source": [
    "# Homework 3 - Packages, Pandas, and Matplotlib"
   ]
  },
  {
   "cell_type": "code",
   "execution_count": 1,
   "id": "4d737efc",
   "metadata": {},
   "outputs": [
    {
     "name": "stdout",
     "output_type": "stream",
     "text": [
      "Welcome to Homework 3!\n",
      "    This homework is designed to test your understanding of packages, reading and writing files, \n",
      "    using Pandas, and plotting in Python. Please answer the questions in the homework by filling \n",
      "    in the variables q1, q2, etc. Each time you fill in a variables, run the saveResults('q',q) \n",
      "    function to save your answers. Make sure not to change the variable names or overwrite your \n",
      "    answers in subsequent questions!\n",
      "\n",
      "    Please Note -- this assignment has several questions that will require you to update your \n",
      "    README.md file with the answers. Please be sure to do this before submitting your assignment.\n",
      "    Any requested figures should be saved as .png files in your repository and should be added\n",
      "    to your README.md file as well.  All figures should include captions that describe the figure, \n",
      "    labels for the axes (if applicable), and a figure legend (if applicable).\n",
      "\n",
      "    Note, you might need to install the matplotlib and pandas packages to complete this homework.\n",
      "    You should know how to do this by now, but if you need a refresher, please refer to the\n",
      "    example notebooks in this module.\n",
      "    \n",
      "    Good luck!\n"
     ]
    }
   ],
   "source": [
    "# Problem Set Settings - DO NOT CHANGE ANYTHING IN THE CELL.\n",
    "import random, pickle\n",
    "import numpy as np\n",
    "import matplotlib.pyplot as plt\n",
    "\n",
    "from hwk3Preamble import *\n",
    "print(welcomeMessage)"
   ]
  },
  {
   "cell_type": "markdown",
   "id": "0d23caa6-4ac4-4d33-a496-3ef559160951",
   "metadata": {},
   "source": [
    "## Part 1 - Packages"
   ]
  },
  {
   "cell_type": "code",
   "execution_count": 2,
   "id": "e099f037-257b-48f8-8e3d-ccd7685db42d",
   "metadata": {},
   "outputs": [
    {
     "name": "stdout",
     "output_type": "stream",
     "text": [
      "xxx\n"
     ]
    }
   ],
   "source": [
    "# Q1 - Find the docstring for the numpy function \"randint\" in the module \"random\" \n",
    "# within the numpy package.  Save this docstring as a string in the variable q1.  \n",
    "# Do not include the triple quotes.\n",
    "\n",
    "q1 = 'xxx'\n",
    "print(q1)\n",
    "\n",
    "saveResults('q1', q1)"
   ]
  },
  {
   "cell_type": "markdown",
   "id": "3b295348-f300-4cbc-8854-f6481e2618c5",
   "metadata": {},
   "source": [
    "## Part 2 - Reading and writing files"
   ]
  },
  {
   "cell_type": "code",
   "execution_count": 3,
   "id": "6e91d445-7cac-41f0-bf52-80843a035bf9",
   "metadata": {},
   "outputs": [
    {
     "name": "stdout",
     "output_type": "stream",
     "text": [
      "n2 = 124\n"
     ]
    }
   ],
   "source": [
    "# Q2 - generate a text file called 'lots_of_potatos.txt' that contains the string: \n",
    "#'1 potato, 2 potato, 3 potato, ... , [n2] potato' where n2 is given as a variable.\n",
    "print(f'n2 = {n2}')\n",
    "\n",
    "# YOUR CODE HERE"
   ]
  },
  {
   "cell_type": "code",
   "execution_count": 4,
   "id": "7aab4ba7-d775-402a-9e21-49d8b5008e37",
   "metadata": {},
   "outputs": [],
   "source": [
    "# Q3 - open the text file 'data3.txt', which contains a genomic sequence (e.g., 'GATTC...') and write \n",
    "# a new file 'data3Complementary.txt' that contains its complementary sequence (e.g., 'CTAAG...').\n",
    "\n",
    "# YOUR CODE HERE"
   ]
  },
  {
   "cell_type": "markdown",
   "id": "2adc299d-12d3-4730-8ef2-d0d711a1d86f",
   "metadata": {},
   "source": [
    "## Part 3 - Pandas\n",
    "\n",
    "The Breast Cancer Wisconsin (Diagnostic) dataset was collected as part of a research effort led by Dr. William H. Wolberg at the University of Wisconsin. The study aimed to advance the diagnosis of breast cancer through the analysis of digitized images obtained from fine needle aspirates (FNA) of breast masses. Fine needle aspiration is a minimally invasive technique that involves extracting cell samples from a breast mass using a thin needle.\n",
    "\n",
    "The dataset comprises features computed from these digitized FNA images, capturing various characteristics of cell nuclei. These features include measures related to the radius, texture, perimeter, area, smoothness, compactness, concavity, concave points, symmetry, and fractal dimension. Each instance in the dataset is associated with a diagnosis label indicating whether the observed breast mass is malignant (cancerous) or benign (non-cancerous).\n",
    "\n",
    "The dataset has been widely used in machine learning and medical research for tasks such as classification, where the goal is to develop models that can accurately distinguish between malignant and benign cases based on the provided features. It serves as a valuable resource for exploring computational approaches to breast cancer diagnosis and contributes to ongoing efforts to enhance medical decision-making processes."
   ]
  },
  {
   "cell_type": "code",
   "execution_count": 5,
   "id": "22c4764c-4909-4613-845b-7c64d0602071",
   "metadata": {
    "tags": []
   },
   "outputs": [],
   "source": [
    "# Q4 - Use Pandas to open the provided data file 'wdbc.data' (Wisconsin Database for Breast Cancer) \n",
    "# using the provided columns names. Then, determine how many patients have been classified as Benign,\n",
    "# and return this valuie as q4.\n",
    "\n",
    "column_names = [\"id\", \"diagnosis\", \"radius_mean\", \"texture_mean\", \"perimeter_mean\", \"area_mean\", \"smoothness_mean\",\n",
    "                \"compactness_mean\", \"concavity_mean\", \"concave_points_mean\", \"symmetry_mean\", \"fractal_dimension_mean\",\n",
    "                \"radius_se\", \"texture_se\", \"perimeter_se\", \"area_se\", \"smoothness_se\", \"compactness_se\", \"concavity_se\",\n",
    "                \"concave_points_se\", \"symmetry_se\", \"fractal_dimension_se\", \"radius_worst\", \"texture_worst\",\n",
    "                \"perimeter_worst\", \"area_worst\", \"smoothness_worst\", \"compactness_worst\", \"concavity_worst\",\n",
    "                \"concave_points_worst\", \"symmetry_worst\", \"fractal_dimension_worst\"]\n",
    "\n",
    "q4 = 123\n",
    "# YOUR CODE HERE\n",
    "\n",
    "saveResults('q4', q4)"
   ]
  },
  {
   "cell_type": "code",
   "execution_count": 6,
   "id": "38098bd3-2695-432a-882e-00a3647d8122",
   "metadata": {},
   "outputs": [],
   "source": [
    "# Q5 - for each feature in the previous data set (other than 'id' and 'diagnosis'), determine the average \n",
    "# (arithmetic mean) of the that property for (M)alignant and (B)enign tumors.  \n",
    "# Save this as a csv file 'q5data.csv' with the \n",
    "# column names  [\"radius_mean\", \"texture_mean\",...].\n",
    "# and row names ['Malignant', 'Benign'].\n",
    "\n",
    "# YOUR CODE HERE"
   ]
  },
  {
   "cell_type": "markdown",
   "id": "33f76118-63af-4635-ba53-01595cc3bfde",
   "metadata": {},
   "source": [
    "## Part 4 - Matplotlib"
   ]
  },
  {
   "cell_type": "code",
   "execution_count": 7,
   "id": "786fec38-3edf-4e38-82d5-d0bf617b18aa",
   "metadata": {},
   "outputs": [],
   "source": [
    "# Q6 - (2 points, but not autograded) Pick one feature and make two histograms on the SAME axes showing\n",
    "# the distribution of that feature for Malignant and Benign tumors.  Make sure to label your axes and\n",
    "# include a legend.  Try to choose the best feature so that the histograms of malignant and benign tumors\n",
    "# appear to be as dissimilar as possible.  (Hint: you can use the 'alpha' keyword to make the histograms\n",
    "# semi-transparent.)  Save this as a png file, with name 'q6.png' and include this in the README for your repository.\n",
    "# In your README, please refer to this as Figure 1.\n",
    "\n",
    "# YOUR CODE HERE\n"
   ]
  },
  {
   "cell_type": "code",
   "execution_count": 8,
   "id": "a70aa1b8-8ce7-434c-82a4-a0e886e7e96f",
   "metadata": {
    "tags": []
   },
   "outputs": [],
   "source": [
    "# Q7 - (2 points, but not autograded) Pick two features and make a scatter plot in which each benign patient \n",
    "# is represented by a red circle and each malignant patient is represented by a blue square.  \n",
    "# Try to pick two features where there is as little overlap as possible between the benign and malignant samples.\n",
    "# Make sure to add axes lables and legends to your figure and make sure that all fonts are easy to read.\n",
    "# Save your figure as a jpg file called 'q7.jpg' and include this as an image in the README for your repository.\n",
    "# In your README, please refer to this as Figure 2.\n",
    "\n",
    "# YOUR CODE HERE"
   ]
  },
  {
   "cell_type": "markdown",
   "id": "cc5b61ea",
   "metadata": {},
   "source": [
    "# Part 5 - PCA"
   ]
  },
  {
   "cell_type": "code",
   "execution_count": 9,
   "id": "8c056a2c",
   "metadata": {},
   "outputs": [],
   "source": [
    "# Q8.  Perform principle component analysis on the data set. Calculate the fraction of the total variance\n",
    "# explained by each principle component, and save this as variable q8 (1 point, autograded).  Then,\n",
    "# make a scatter plot (1 pt) of the first two principle components, with each benign patient\n",
    "# represented by a red circle and each malignant patient represented by a blue square.\n",
    "# Make sure to add axes labels and legends to your figure, and make sure that all fonts are easy to read.\n",
    "# Save your figure as a jpg file called 'q8.jpg' and include this as an image in the README for your repository.\n",
    "# In your README, please refer to this as Figure 3.\n",
    "\n",
    "q8 = [1.0,2.1,3.2]\n",
    "\n",
    "# YOUR CODE HERE\n",
    "\n",
    "saveResults('q8', q8)"
   ]
  },
  {
   "cell_type": "code",
   "execution_count": 10,
   "id": "cadcc703",
   "metadata": {},
   "outputs": [],
   "source": [
    "#Q9. (3 pts) Update your README to include four short paragraphs that describe the above plots and what you learned \n",
    "# from them.  The first paragraph should describe the data set. The second paragraph should describe Figure 1, \n",
    "# the third paragraph should describe Figure 2, and the fourth paragraph should describe Figure 3.  Make sure to\n",
    "# include the names of the figures in your descriptions, and make sure that your descriptions are clear and easy \n",
    "# to understand.  You should also include a short paragraph at the end of your README that describes how you\n",
    "# completed this assignment.\n",
    "\n",
    "#No code required for this question.\n",
    "\n"
   ]
  },
  {
   "cell_type": "code",
   "execution_count": 11,
   "id": "55a33cfc",
   "metadata": {},
   "outputs": [],
   "source": [
    "# Q10 (no points, but required to get credit for the assignment). Describe any resources or AI you used other than the lecture\n",
    "# notes and the textbook.  You should also include a description of any help you received from anyone other than\n",
    "# the instructor and the TA.  Finally, you should include a description of any help you provided to anyone else\n",
    "# on this assignment (including the instructor and the TA).  If you did not receive any help and did not provide\n",
    "# any help, then you should say so explicitly."
   ]
  }
 ],
 "metadata": {
  "kernelspec": {
   "display_name": "Python 3",
   "language": "python",
   "name": "python3"
  },
  "language_info": {
   "codemirror_mode": {
    "name": "ipython",
    "version": 3
   },
   "file_extension": ".py",
   "mimetype": "text/x-python",
   "name": "python",
   "nbconvert_exporter": "python",
   "pygments_lexer": "ipython3",
   "version": "3.10.16"
  }
 },
 "nbformat": 4,
 "nbformat_minor": 5
}
